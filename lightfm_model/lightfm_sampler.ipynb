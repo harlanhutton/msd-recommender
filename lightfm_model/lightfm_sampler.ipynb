{
 "cells": [
  {
   "cell_type": "code",
   "execution_count": 7,
   "id": "d35dc6e0",
   "metadata": {},
   "outputs": [],
   "source": [
    "from pyspark.ml.evaluation import RegressionEvaluator\n",
    "from pyspark.ml.recommendation import ALS\n",
    "from pyspark.sql import Row\n",
    "import getpass\n",
    "import sys\n",
    "\n",
    "from pyspark.sql import SparkSession\n",
    "import numpy as np\n",
    "import pandas as pd\n",
    "\n",
    "\n",
    "def main(spark, file_path):\n",
    "\n",
    "    flt_pct_samp = 1/8\n",
    "    lines = spark.read.parquet(file_path)\n",
    "    lines.createOrReplaceTempView('lines')\n",
    "\n",
    "    df = lines.sample(fraction=flt_pct_samp)\n",
    "    df.write.mode('overwrite').parquet('../data/train_sample1pct.parquet')\n",
    "    \n",
    "\n",
    "# Only enter this block if we're in main\n",
    "if __name__ == \"__main__\":\n",
    "\n",
    "    # Create the spark session object\n",
    "    spark = SparkSession.builder.appName('lightfm sampler').getOrCreate()"
   ]
  },
  {
   "cell_type": "code",
   "execution_count": 8,
   "id": "c3f42c48",
   "metadata": {},
   "outputs": [],
   "source": [
    "main(spark, '../archived_versions/train_sample1.parquet')"
   ]
  },
  {
   "cell_type": "code",
   "execution_count": null,
   "id": "7e7b2506",
   "metadata": {},
   "outputs": [],
   "source": []
  }
 ],
 "metadata": {
  "kernelspec": {
   "display_name": "Python 3",
   "language": "python",
   "name": "python3"
  },
  "language_info": {
   "codemirror_mode": {
    "name": "ipython",
    "version": 3
   },
   "file_extension": ".py",
   "mimetype": "text/x-python",
   "name": "python",
   "nbconvert_exporter": "python",
   "pygments_lexer": "ipython3",
   "version": "3.8.8"
  }
 },
 "nbformat": 4,
 "nbformat_minor": 5
}
