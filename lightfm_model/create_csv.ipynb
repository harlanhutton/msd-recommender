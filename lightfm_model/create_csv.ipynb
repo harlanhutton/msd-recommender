{
 "cells": [
  {
   "cell_type": "code",
   "execution_count": null,
   "id": "f25a5c69",
   "metadata": {},
   "outputs": [],
   "source": [
    "from pyspark.sql import SparkSession\n",
    "\n",
    "def main(spark, filepath, filename):\n",
    "\n",
    "    df = spark.read.parquet(filepath)\n",
    "    df.coalesce(1).write.option(\"header\", \"true\").csv(filename)\n",
    "\n",
    "\n",
    "if __name__ == \"__main__\":\n",
    "    \n",
    "    # Create the spark session object\n",
    "    spark = SparkSession.builder.config('spark.driver.memory', '16g')\\\n",
    "    .appName('create csv').getOrCreate()\n",
    "    \n",
    "    # Create spark context\n",
    "    sc = spark.sparkContext\n",
    "\n",
    "    filepath = sys.argv[1]\n",
    "    filename = sys.argv[2]\n",
    "    \n",
    "    # Call main function\n",
    "    main(spark, filepath, filename)"
   ]
  },
  {
   "cell_type": "code",
   "execution_count": null,
   "id": "5dd89455",
   "metadata": {},
   "outputs": [],
   "source": []
  }
 ],
 "metadata": {
  "kernelspec": {
   "display_name": "Python 3",
   "language": "python",
   "name": "python3"
  },
  "language_info": {
   "codemirror_mode": {
    "name": "ipython",
    "version": 3
   },
   "file_extension": ".py",
   "mimetype": "text/x-python",
   "name": "python",
   "nbconvert_exporter": "python",
   "pygments_lexer": "ipython3",
   "version": "3.8.8"
  }
 },
 "nbformat": 4,
 "nbformat_minor": 5
}
