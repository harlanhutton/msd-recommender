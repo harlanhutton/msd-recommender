{
 "cells": [
  {
   "cell_type": "code",
   "execution_count": 1,
   "id": "c3650ead",
   "metadata": {},
   "outputs": [
    {
     "name": "stderr",
     "output_type": "stream",
     "text": [
      "/Users/harlanhutton/opt/anaconda3/lib/python3.8/site-packages/lightfm/_lightfm_fast.py:9: UserWarning: LightFM was compiled without OpenMP support. Only a single thread will be used.\n",
      "  warnings.warn(\n"
     ]
    }
   ],
   "source": [
    "import numpy as np\n",
    "import pandas as pd\n",
    "from lightfm import LightFM\n",
    "import itertools\n",
    "from lightfm.evaluation import precision_at_k\n",
    "from scipy.sparse import csr_matrix, lil_matrix, coo_matrix\n",
    "from pyspark.sql import SparkSession\n",
    "from time import time\n",
    "from lightfm.cross_validation import random_train_test_split"
   ]
  },
  {
   "cell_type": "code",
   "execution_count": 3,
   "id": "b738f9a3",
   "metadata": {},
   "outputs": [],
   "source": [
    "def create_interactions(df):\n",
    "    \n",
    "    return pd.pivot_table(df, index='user_id_numer', columns='track_id_numer', values='count', fill_value = 0)"
   ]
  },
  {
   "cell_type": "code",
   "execution_count": 13,
   "id": "3f07208a",
   "metadata": {},
   "outputs": [],
   "source": [
    "def create_matrix(interaction):\n",
    "    \n",
    "    total_matrix = csr_matrix(interaction.values)\n",
    "    \n",
    "    (train_matrix, val_and_test_matrix) = random_train_test_split(total_matrix, test_percentage=0.8)\n",
    "    \n",
    "    (val_matrix, test_matrix) = random_train_test_split(val_and_test_matrix, test_percentage=0.5)\n",
    "    \n",
    "    return train_matrix, val_matrix, test_matrix"
   ]
  },
  {
   "cell_type": "code",
   "execution_count": 20,
   "id": "46ee2666",
   "metadata": {},
   "outputs": [],
   "source": [
    "def sample_hyperparameters():\n",
    "    \"\"\"\n",
    "    Yield possible hyperparameter choices.\n",
    "    \"\"\"\n",
    "    \n",
    "    return {\"no_components\": [5,10,20,40,80,160], \"learning_rate\": [.01,.1,1,2]}"
   ]
  },
  {
   "cell_type": "code",
   "execution_count": 21,
   "id": "2b1fe888",
   "metadata": {},
   "outputs": [],
   "source": [
    "def random_search(train, val, m_iter):\n",
    "    \n",
    "    MAP_dict = {}\n",
    "\n",
    "    hyperparams = sample_hyperparameters()\n",
    "    \n",
    "    for rank in hyperparams['no_components']:\n",
    "            \n",
    "        key = '{} Rank'.format(rank)\n",
    "        nested_dict = {}\n",
    "            \n",
    "        for reg in hyperparams['learning_rate']:\n",
    "\n",
    "            model = LightFM(random_state = 123, learning_rate = reg, no_components = rank)\n",
    "            model.fit(train, epochs=m_iter)\n",
    "\n",
    "            MAP = precision_at_k(model, val, k = 500).mean()\n",
    "                \n",
    "            nested_key = '{} Reg Param'.format(reg)\n",
    "                \n",
    "            nested_dict[nested_key] = MAP\n",
    "        \n",
    "        MAP_dict[key] = nested_dict\n",
    "                \n",
    "    return MAP_dict\n"
   ]
  },
  {
   "cell_type": "code",
   "execution_count": 54,
   "id": "676dbd5a",
   "metadata": {},
   "outputs": [],
   "source": [
    "def get_best_params(MAP_dict):\n",
    "    \n",
    "    max_MAP = 0\n",
    "\n",
    "    for rank in dic.keys():\n",
    "        for reg in dic[rank]:\n",
    "            if dic[rank][reg] > max_MAP:\n",
    "                max_rank = rank\n",
    "                max_reg = reg\n",
    "                \n",
    "    return float(str.split(max_reg, ' ')[0]), int(str.split(max_rank, ' ')[0])\n",
    "    "
   ]
  },
  {
   "cell_type": "code",
   "execution_count": 9,
   "id": "28216ec0",
   "metadata": {},
   "outputs": [],
   "source": [
    "def train_model(train_matrix, rank, reg, m_iter):\n",
    "    \n",
    "    model = LightFM(random_state = 123, learning_rate = reg, no_components = rank)\n",
    "    model = model.fit(train_matrix, epochs = m_iter)\n",
    "    \n",
    "    return model"
   ]
  },
  {
   "cell_type": "code",
   "execution_count": 59,
   "id": "ae94770f",
   "metadata": {},
   "outputs": [],
   "source": [
    "def test_model(model, test_matrix):\n",
    "    \n",
    "    return precision_at_k(model, test_matrix).mean()"
   ]
  },
  {
   "cell_type": "code",
   "execution_count": 60,
   "id": "4ad8291c",
   "metadata": {},
   "outputs": [],
   "source": [
    "def main():\n",
    "    \n",
    "    train_df = pd.read_csv('../data/pandas_train_df')\n",
    "    test_df = pd.read_csv('../data/pandas_test_df')\n",
    "    val_df = pd.read_csv('../data/pandas_val_df')\n",
    "    \n",
    "    df_total = pd.concat([train_df, val_df, test_df])\n",
    "    df_interaction = create_interactions(df_total)\n",
    "    \n",
    "    print('pivot table created')\n",
    "    \n",
    "    train_matrix, val_matrix, test_matrix = create_matrix(df_interaction)\n",
    "    \n",
    "    print('matrices created')\n",
    "    \n",
    "    st = time()\n",
    "    MAP_dict = random_search(train_matrix, val_matrix, m_iter = 4)\n",
    "    end = round(time()-st, 3)\n",
    "    \n",
    "    print(\"Hyperparameter tuning took {} seconds\".format(end))\n",
    "    \n",
    "    best_reg, best_rank = get_best_params(MAP_dict)\n",
    "    \n",
    "    print(\"Best rank: {}, best reg: {}\".format(best_rank, best_reg))\n",
    "\n",
    "    st = time()\n",
    "    model = train_model(train_matrix, best_rank, best_reg, m_iter = 4)\n",
    "    MAP = test_model(model, test_matrix)  \n",
    "    end = round(time()-st, 3)\n",
    "    \n",
    "    print(\"MAP on test data: {}\".format(MAP))\n",
    "    print(\"Final model training and fitting took {}\".format(end))\n",
    "    \n",
    "    return pd.DataFrame(MAP_dict)\n",
    "    \n"
   ]
  },
  {
   "cell_type": "code",
   "execution_count": 61,
   "id": "29956432",
   "metadata": {},
   "outputs": [
    {
     "name": "stdout",
     "output_type": "stream",
     "text": [
      "pivot table created\n",
      "matrices created\n",
      "Hyperparameter tuning took 869.107 seconds\n",
      "Best rank: 20, best reg: 1.0\n",
      "MAP on test data: 0.0019304865272715688\n",
      "Final model training and fitting took 35.086\n"
     ]
    },
    {
     "data": {
      "text/html": [
       "<div>\n",
       "<style scoped>\n",
       "    .dataframe tbody tr th:only-of-type {\n",
       "        vertical-align: middle;\n",
       "    }\n",
       "\n",
       "    .dataframe tbody tr th {\n",
       "        vertical-align: top;\n",
       "    }\n",
       "\n",
       "    .dataframe thead th {\n",
       "        text-align: right;\n",
       "    }\n",
       "</style>\n",
       "<table border=\"1\" class=\"dataframe\">\n",
       "  <thead>\n",
       "    <tr style=\"text-align: right;\">\n",
       "      <th></th>\n",
       "      <th>5 Rank</th>\n",
       "      <th>10 Rank</th>\n",
       "      <th>20 Rank</th>\n",
       "      <th>40 Rank</th>\n",
       "      <th>80 Rank</th>\n",
       "      <th>160 Rank</th>\n",
       "    </tr>\n",
       "  </thead>\n",
       "  <tbody>\n",
       "    <tr>\n",
       "      <th>0.01 Reg Param</th>\n",
       "      <td>0.000278</td>\n",
       "      <td>0.000290</td>\n",
       "      <td>0.000292</td>\n",
       "      <td>0.000290</td>\n",
       "      <td>0.000292</td>\n",
       "      <td>0.000290</td>\n",
       "    </tr>\n",
       "    <tr>\n",
       "      <th>0.1 Reg Param</th>\n",
       "      <td>0.000290</td>\n",
       "      <td>0.000290</td>\n",
       "      <td>0.000290</td>\n",
       "      <td>0.000289</td>\n",
       "      <td>0.000291</td>\n",
       "      <td>0.000289</td>\n",
       "    </tr>\n",
       "    <tr>\n",
       "      <th>1 Reg Param</th>\n",
       "      <td>0.000290</td>\n",
       "      <td>0.000290</td>\n",
       "      <td>0.000290</td>\n",
       "      <td>0.000291</td>\n",
       "      <td>0.000290</td>\n",
       "      <td>0.000289</td>\n",
       "    </tr>\n",
       "    <tr>\n",
       "      <th>2 Reg Param</th>\n",
       "      <td>0.000290</td>\n",
       "      <td>0.000291</td>\n",
       "      <td>0.000290</td>\n",
       "      <td>0.000291</td>\n",
       "      <td>0.000290</td>\n",
       "      <td>0.000289</td>\n",
       "    </tr>\n",
       "  </tbody>\n",
       "</table>\n",
       "</div>"
      ],
      "text/plain": [
       "                  5 Rank   10 Rank   20 Rank   40 Rank   80 Rank  160 Rank\n",
       "0.01 Reg Param  0.000278  0.000290  0.000292  0.000290  0.000292  0.000290\n",
       "0.1 Reg Param   0.000290  0.000290  0.000290  0.000289  0.000291  0.000289\n",
       "1 Reg Param     0.000290  0.000290  0.000290  0.000291  0.000290  0.000289\n",
       "2 Reg Param     0.000290  0.000291  0.000290  0.000291  0.000290  0.000289"
      ]
     },
     "execution_count": 61,
     "metadata": {},
     "output_type": "execute_result"
    }
   ],
   "source": [
    "main()"
   ]
  }
 ],
 "metadata": {
  "kernelspec": {
   "display_name": "Python 3",
   "language": "python",
   "name": "python3"
  },
  "language_info": {
   "codemirror_mode": {
    "name": "ipython",
    "version": 3
   },
   "file_extension": ".py",
   "mimetype": "text/x-python",
   "name": "python",
   "nbconvert_exporter": "python",
   "pygments_lexer": "ipython3",
   "version": "3.8.8"
  }
 },
 "nbformat": 4,
 "nbformat_minor": 5
}
