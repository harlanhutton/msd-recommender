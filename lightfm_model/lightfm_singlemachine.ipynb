{
 "cells": [
  {
   "cell_type": "code",
   "execution_count": 1,
   "id": "c3650ead",
   "metadata": {},
   "outputs": [
    {
     "name": "stderr",
     "output_type": "stream",
     "text": [
      "/Users/harlanhutton/opt/anaconda3/lib/python3.8/site-packages/lightfm/_lightfm_fast.py:9: UserWarning: LightFM was compiled without OpenMP support. Only a single thread will be used.\n",
      "  warnings.warn(\n"
     ]
    }
   ],
   "source": [
    "import numpy as np\n",
    "import pandas as pd\n",
    "from lightfm import LightFM\n",
    "import itertools\n",
    "from lightfm.evaluation import precision_at_k\n",
    "from scipy.sparse import csr_matrix, lil_matrix, coo_matrix\n",
    "from pyspark.sql import SparkSession\n",
    "from time import time"
   ]
  },
  {
   "cell_type": "code",
   "execution_count": 2,
   "id": "6ad1557a",
   "metadata": {},
   "outputs": [],
   "source": [
    "def clean(train, test, val):\n",
    "    \n",
    "    train_df.createOrReplaceTempView('train')\n",
    "    test_df.createOrReplaceTempView('test')\n",
    "    val_df.createOrReplaceTempView('val')\n",
    "    \n",
    "    # Filtering the validation set such that it contains only books that are already present in the training set\n",
    "    \n",
    "    val = spark.sql('SELECT v.user_id_numer, v.track_id_numer, v.count FROM val v JOIN train t on v.user_id_numer = t.user_id_numer') \n",
    "    test = spark.sql('SELECT t.user_id_numer, t.track_id_numer, t.count FROM test t JOIN train tr on t.user_id_numer = tr.user_id_numer')\n",
    "    \n",
    "    val.createOrReplaceTempView('val')\n",
    "    test.createOrReplaceTempView('test')\n",
    "    \n",
    "    return train.toPandas(), val.toPandas(), test.toPandas()"
   ]
  },
  {
   "cell_type": "code",
   "execution_count": 3,
   "id": "b738f9a3",
   "metadata": {},
   "outputs": [],
   "source": [
    "def create_interactions(train, test, val):\n",
    "    \n",
    "    train_interaction = pd.pivot_table(train, index='user_id_numer', columns='track_id_numer', values='count', fill_value = 0)\n",
    "    test_interaction = pd.pivot_table(test, index='user_id_numer', columns='track_id_numer', values='count', fill_value = 0)\n",
    "    val_interaction = pd.pivot_table(val, index='user_id_numer', columns='track_id_numer', values='count', fill_value = 0)\n",
    "    \n",
    "    return train_interaction, test_interaction, val_interaction  "
   ]
  },
  {
   "cell_type": "code",
   "execution_count": 4,
   "id": "3f07208a",
   "metadata": {},
   "outputs": [],
   "source": [
    "def create_matrix(train_interaction, test_interaction, val_interaction):\n",
    "    \n",
    "    return csr_matrix(train_interaction.values), csr_matrix(test_interaction.values), csr_matrix(val_interaction.values)"
   ]
  },
  {
   "cell_type": "code",
   "execution_count": 5,
   "id": "46ee2666",
   "metadata": {},
   "outputs": [],
   "source": [
    "def sample_hyperparameters():\n",
    "    \"\"\"\n",
    "    Yield possible hyperparameter choices.\n",
    "    \"\"\"\n",
    "    \n",
    "    while True:\n",
    "        yield {\n",
    "            \"no_components\": [5,10,15,20],\n",
    "            \"learning_rate\": [.01,.1,1]\n",
    "        }"
   ]
  },
  {
   "cell_type": "code",
   "execution_count": 6,
   "id": "2b1fe888",
   "metadata": {},
   "outputs": [],
   "source": [
    "def random_search(train, val, m_iter, num_samples):\n",
    "\n",
    "    for hyperparams in itertools.islice(sample_hyperparameters(), num_samples):\n",
    "        \n",
    "        print(hyperparams)\n",
    "\n",
    "        model = LightFM(**hyperparams)\n",
    "        model.fit(train, epochs=m_iter)\n",
    "\n",
    "        MAP = precision_at_k(model, val).mean()\n",
    "\n",
    "        yield (MAP, hyperparams, model)"
   ]
  },
  {
   "cell_type": "code",
   "execution_count": 7,
   "id": "28216ec0",
   "metadata": {},
   "outputs": [],
   "source": [
    "def train_model(train_matrix, rank, reg, m_iter):\n",
    "    \n",
    "    model = LightFM(random_state = 123, learning_rate = reg, no_components = rank)\n",
    "    model = model.fit(train_matrix, epochs = m_iter)\n",
    "    \n",
    "    return model"
   ]
  },
  {
   "cell_type": "code",
   "execution_count": 8,
   "id": "ae94770f",
   "metadata": {},
   "outputs": [],
   "source": [
    "def test_model(model, test_matrix):\n",
    "    \n",
    "    return precision_at_k(model, val).mean()"
   ]
  },
  {
   "cell_type": "code",
   "execution_count": 9,
   "id": "4ad8291c",
   "metadata": {},
   "outputs": [],
   "source": [
    "def main():\n",
    "    \n",
    "    train_df = pd.read_csv('../data/pandas_train_df')\n",
    "    test_df = pd.read_csv('../data/pandas_test_df')\n",
    "    val_df = pd.read_csv('../data/pandas_val_df')\n",
    "    \n",
    "    #train_df, val_df, test_df = clean(train_df, test_df, val_df)\n",
    "    train_interaction, test_interaction, val_interaction = create_interactions(train_df, test_df, val_df)\n",
    "    \n",
    "    print('pivot tables created')\n",
    "    \n",
    "    train_matrix, test_matrix, val_matrix = create_matrix(train_interaction, test_interaction, val_interaction)\n",
    "    \n",
    "    print('matrices created')\n",
    "    \n",
    "    st = time()\n",
    "    (score, hyperparams, model) = max(random_search(train_matrix, val_matrix, m_iter = 4, num_samples = 4), key=lambda x: x[0])\n",
    "    end = round(time()-st, 3)\n",
    "    \n",
    "    print(\"Best score {} at {}\".format(score, hyperparams))\n",
    "    print(\"Hyperparameter tuning took {}\".format(end))\n",
    "    \n",
    "    st = time()\n",
    "    model = train_model(train_model, **hyperparams, m_iter = 4)\n",
    "    bestMAP = test_model(model, test_matrix)  \n",
    "    end = round(time()-st, 3)\n",
    "    \n",
    "    print(\"Best MAP on test data: {}\".format(bestMAP))\n",
    "    print(\"Final model training and fitting took {}\".format(end))\n",
    "    "
   ]
  },
  {
   "cell_type": "code",
   "execution_count": null,
   "id": "7bd190b1",
   "metadata": {},
   "outputs": [],
   "source": [
    "train_df = pd.read_csv('../data/pandas_train_df')\n",
    "test_df = pd.read_csv('../data/pandas_test_df')\n",
    "val_df = pd.read_csv('../data/pandas_val_df')\n",
    "    \n",
    "#train_df, val_df, test_df = clean(train_df, test_df, val_df)\n",
    "train_interaction, test_interaction, val_interaction = create_interactions(train_df, test_df, val_df)\n",
    "    \n",
    "print('pivot tables created')\n",
    "    \n",
    "train_matrix, test_matrix, val_matrix = create_matrix(train_interaction, test_interaction, val_interaction)\n",
    "    \n",
    "print('matrices created')"
   ]
  },
  {
   "cell_type": "code",
   "execution_count": null,
   "id": "b1739db4",
   "metadata": {},
   "outputs": [],
   "source": [
    "st = time()\n",
    "(score, hyperparams, model) = max(random_search(train_matrix, val_matrix, m_iter = 4, num_samples = 4), key=lambda x: x[0])\n",
    "end = round(time()-st, 3)\n",
    "    \n",
    "print(\"Best score {} at {}\".format(score, hyperparams))\n",
    "print(\"Hyperparameter tuning took {}\".format(end))\n",
    "    \n",
    "st = time()\n",
    "model = train_model(train_model, **hyperparams, m_iter = 4)\n",
    "bestMAP = test_model(model, test_matrix)  \n",
    "end = round(time()-st, 3)\n",
    "    \n",
    "print(\"Best MAP on test data: {}\".format(bestMAP))\n",
    "print(\"Final model training and fitting took {}\".format(end))\n",
    "    "
   ]
  }
 ],
 "metadata": {
  "kernelspec": {
   "display_name": "Python 3",
   "language": "python",
   "name": "python3"
  },
  "language_info": {
   "codemirror_mode": {
    "name": "ipython",
    "version": 3
   },
   "file_extension": ".py",
   "mimetype": "text/x-python",
   "name": "python",
   "nbconvert_exporter": "python",
   "pygments_lexer": "ipython3",
   "version": "3.8.8"
  }
 },
 "nbformat": 4,
 "nbformat_minor": 5
}
