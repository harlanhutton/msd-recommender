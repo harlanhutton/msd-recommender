{
 "cells": [
  {
   "cell_type": "code",
   "execution_count": 1,
   "id": "c3650ead",
   "metadata": {},
   "outputs": [
    {
     "name": "stderr",
     "output_type": "stream",
     "text": [
      "/Users/harlanhutton/opt/anaconda3/lib/python3.8/site-packages/lightfm/_lightfm_fast.py:9: UserWarning: LightFM was compiled without OpenMP support. Only a single thread will be used.\n",
      "  warnings.warn(\n"
     ]
    }
   ],
   "source": [
    "import numpy as np\n",
    "import pandas as pd\n",
    "from lightfm import LightFM\n",
    "import itertools\n",
    "from lightfm.evaluation import precision_at_k\n",
    "from scipy.sparse import csr_matrix, lil_matrix, coo_matrix\n",
    "from time import time"
   ]
  },
  {
   "cell_type": "code",
   "execution_count": null,
   "id": "b738f9a3",
   "metadata": {},
   "outputs": [],
   "source": [
    "def create_interactions(train, test, val):\n",
    "    \n",
    "    #train.columns = [0,1,2]\n",
    "    train_interaction = pd.pivot_table(train, index='user_id_numer', columns='track_id_numer', values='count')\n",
    "    train_interaction = train_interaction.fillna(0)\n",
    "    \n",
    "    #test.columns = [0,1,2]\n",
    "    test_interaction = pd.pivot_table(test, index='user_id_numer', columns='track_id_numer', values='count')\n",
    "    test_interaction = test_interaction.fillna(0)\n",
    "    \n",
    "    #val.columns = [0,1,2]\n",
    "    val_interaction = pd.pivot_table(val, index='user_id_numer', columns='track_id_numer', values='count')\n",
    "    val_interaction = val_interaction.fillna(0)\n",
    "    \n",
    "    return train_interaction, test_interaction, val_interaction  "
   ]
  },
  {
   "cell_type": "code",
   "execution_count": null,
   "id": "3f07208a",
   "metadata": {},
   "outputs": [],
   "source": [
    "def create_matrix(train_interaction, test_interaction, val_interaction):\n",
    "    \n",
    "    return csr_matrix(train_interaction.values), csr_matrix(test_interaction.values), csr_matrix(val_interaction.values)"
   ]
  },
  {
   "cell_type": "code",
   "execution_count": null,
   "id": "46ee2666",
   "metadata": {},
   "outputs": [],
   "source": [
    "def sample_hyperparameters():\n",
    "    \"\"\"\n",
    "    Yield possible hyperparameter choices.\n",
    "    \"\"\"\n",
    "    \n",
    "    while True:\n",
    "        yield {\n",
    "            \"no_components\": [5,10,15,20],\n",
    "            \"learning_rate\": [.01,.1,1]\n",
    "        }"
   ]
  },
  {
   "cell_type": "code",
   "execution_count": null,
   "id": "2b1fe888",
   "metadata": {},
   "outputs": [],
   "source": [
    "def random_search(train, val, m_iter):\n",
    "\n",
    "    for hyperparams in itertools.islice(sample_hyperparameters(), num_samples):\n",
    "\n",
    "        model = LightFM(**hyperparams)\n",
    "        model.fit(train, epochs=m_iter)\n",
    "\n",
    "        MAP = precision_at_k(model, val).mean()\n",
    "\n",
    "        yield (MAP, hyperparams, model)"
   ]
  },
  {
   "cell_type": "code",
   "execution_count": null,
   "id": "28216ec0",
   "metadata": {},
   "outputs": [],
   "source": [
    "def train_model(train_matrix, rank, reg, m_iter):\n",
    "    \n",
    "    model = LightFM(random_state = 123, learning_rate = reg, no_components = rank)\n",
    "    model = model.fit(train_matrix, epochs = m_iter)\n",
    "    \n",
    "    return model"
   ]
  },
  {
   "cell_type": "code",
   "execution_count": null,
   "id": "ae94770f",
   "metadata": {},
   "outputs": [],
   "source": [
    "def test_model(model, test_matrix):\n",
    "    \n",
    "    return precision_at_k(model, val).mean()"
   ]
  },
  {
   "cell_type": "code",
   "execution_count": null,
   "id": "4ad8291c",
   "metadata": {},
   "outputs": [],
   "source": [
    "def main():\n",
    "    \n",
    "    train_df = pd.read_csv('data/train_df.csv')\n",
    "    test_df = pd.read_csv('data/test_df.csv')\n",
    "    val_df = pd.read_csv('data/val_df.csv')\n",
    "    \n",
    "    train_interaction, test_interaction, val_interaction = create_interactions(train_df, test_df, val_df)\n",
    "#     train_matrix, test_matrix, val_matrix = create_matrix(train_interaction, test_interaction, val_interaction)\n",
    "    \n",
    "#     st = time()\n",
    "#     (score, hyperparams, model) = max(random_search(train_matrix, val_matrix, m_iter = 4), key=lambda x: x[0])\n",
    "#     end = round(time()-st, 3)\n",
    "    \n",
    "#     print(\"Best score {} at {}\".format(score, hyperparams))\n",
    "#     print(\"Hyperparameter tuning took {}\".format(end))\n",
    "    \n",
    "#     st = time()\n",
    "#     model = train_model(train_model, **hyperparams, m_iter = 4)\n",
    "#     bestMAP = test_model(model, test_matrix)  \n",
    "#     end = round(time()-st, 3)\n",
    "    \n",
    "#     print(\"Best MAP on test data: {}\".format(bestMAP))\n",
    "#     print(\"Final model training and fitting took {}\".format(end))\n",
    "    "
   ]
  },
  {
   "cell_type": "code",
   "execution_count": 2,
   "id": "ccd25cc6",
   "metadata": {},
   "outputs": [],
   "source": [
    "train_df = pd.read_csv('data/train_df.csv')"
   ]
  },
  {
   "cell_type": "code",
   "execution_count": 10,
   "id": "c3db1c8f",
   "metadata": {},
   "outputs": [],
   "source": [
    "val_df = pd.read_csv('data/val_df.csv')"
   ]
  },
  {
   "cell_type": "code",
   "execution_count": 11,
   "id": "7b4a7b64",
   "metadata": {},
   "outputs": [
    {
     "data": {
      "text/plain": [
       "(1328, 3)"
      ]
     },
     "execution_count": 11,
     "metadata": {},
     "output_type": "execute_result"
    }
   ],
   "source": [
    "val_df.shape"
   ]
  },
  {
   "cell_type": "code",
   "execution_count": null,
   "id": "1c6e1406",
   "metadata": {},
   "outputs": [],
   "source": [
    "rows, r_pos = np.unique(train_df.user_id_numer, return_inverse=True)\n",
    "cols, c_pos = np.unique(train_df.track_id_numer, return_inverse=True)"
   ]
  },
  {
   "cell_type": "code",
   "execution_count": null,
   "id": "64c825c2",
   "metadata": {},
   "outputs": [],
   "source": [
    "data = train_df.count\n",
    "row = train_df.user_id_numer\n",
    "col = train_df.track_id_numer\n",
    "\n",
    "mat = coo_matrix((data, (row, col)), shape = (len(rows), len(cols)))"
   ]
  },
  {
   "cell_type": "code",
   "execution_count": null,
   "id": "b25374f1",
   "metadata": {},
   "outputs": [],
   "source": [
    "train_interaction = pd.pivot_table(train_df, index='user_id_numer', columns='track_id_numer', values='count', fill_value=0)"
   ]
  },
  {
   "cell_type": "code",
   "execution_count": null,
   "id": "8dff2321",
   "metadata": {},
   "outputs": [],
   "source": [
    "train_interaction"
   ]
  },
  {
   "cell_type": "code",
   "execution_count": 3,
   "id": "512ae235",
   "metadata": {},
   "outputs": [
    {
     "name": "stdout",
     "output_type": "stream",
     "text": [
      "[[0. 0. 0. ... 0. 0. 0.]\n",
      " [0. 0. 0. ... 0. 0. 0.]\n",
      " [0. 0. 0. ... 0. 0. 0.]\n",
      " ...\n",
      " [0. 0. 0. ... 0. 0. 0.]\n",
      " [0. 0. 0. ... 0. 0. 0.]\n",
      " [0. 0. 0. ... 0. 0. 0.]]\n"
     ]
    }
   ],
   "source": [
    "rows, r_pos = np.unique(train_df.user_id_numer, return_inverse=True)\n",
    "cols, c_pos = np.unique(train_df.track_id_numer, return_inverse=True)\n",
    "\n",
    "pivot_table = np.zeros((len(rows), len(cols)))\n",
    "pivot_table[r_pos, c_pos] = 1\n",
    "\n",
    "print(pivot_table)"
   ]
  },
  {
   "cell_type": "code",
   "execution_count": 8,
   "id": "549b2685",
   "metadata": {},
   "outputs": [
    {
     "data": {
      "text/plain": [
       "(array([0.00000e+00, 1.00000e+00, 2.00000e+00, ..., 3.34911e+05,\n",
       "        3.34912e+05, 3.34913e+05]),\n",
       " array([274482,  15107,  25385, ...,  47513, 192557,  28813]))"
      ]
     },
     "execution_count": 8,
     "metadata": {},
     "output_type": "execute_result"
    }
   ],
   "source": [
    "np.unique(train_df.user_id_numer, return_inverse=True)"
   ]
  },
  {
   "cell_type": "code",
   "execution_count": null,
   "id": "5f684b93",
   "metadata": {},
   "outputs": [],
   "source": [
    "s = coo_matrix(pivot_table)"
   ]
  },
  {
   "cell_type": "code",
   "execution_count": null,
   "id": "2f85d1c8",
   "metadata": {},
   "outputs": [],
   "source": [
    "csr_matrix(pivot_table)"
   ]
  },
  {
   "cell_type": "code",
   "execution_count": null,
   "id": "6d71fc88",
   "metadata": {},
   "outputs": [],
   "source": [
    "model = LightFM(random_state = 123, learning_rate = 0.1, no_components = 10)\n",
    "model = model.fit(pivot_table, epochs = 4)"
   ]
  },
  {
   "cell_type": "code",
   "execution_count": null,
   "id": "b4b44bdd",
   "metadata": {},
   "outputs": [],
   "source": [
    "# Convert the dense pivot table to a sparse matrix\n",
    "s = csr_matrix(pivot_table)"
   ]
  },
  {
   "cell_type": "code",
   "execution_count": null,
   "id": "c7fdbf42",
   "metadata": {},
   "outputs": [],
   "source": [
    "train_df.groupby(['user_id_numer', 'track_id_numer']).size().unstack(fill_value=0)"
   ]
  },
  {
   "cell_type": "code",
   "execution_count": null,
   "id": "8fa18fde",
   "metadata": {},
   "outputs": [],
   "source": [
    "val_df = pd.read_csv('data/val_df.csv')"
   ]
  },
  {
   "cell_type": "code",
   "execution_count": null,
   "id": "7863a054",
   "metadata": {},
   "outputs": [],
   "source": [
    "train_mat = coo_matrix(train_df)"
   ]
  },
  {
   "cell_type": "code",
   "execution_count": null,
   "id": "115a5c36",
   "metadata": {},
   "outputs": [],
   "source": [
    "val_mat = coo_matrix(val_df)"
   ]
  },
  {
   "cell_type": "code",
   "execution_count": null,
   "id": "6c3f9e7b",
   "metadata": {},
   "outputs": [],
   "source": [
    "from scipy.sparse import coo_matrix"
   ]
  },
  {
   "cell_type": "code",
   "execution_count": 4,
   "id": "195aac7c",
   "metadata": {},
   "outputs": [
    {
     "ename": "AttributeError",
     "evalue": "'numpy.ndarray' object has no attribute 'tocoo'",
     "output_type": "error",
     "traceback": [
      "\u001b[0;31m---------------------------------------------------------------------------\u001b[0m",
      "\u001b[0;31mAttributeError\u001b[0m                            Traceback (most recent call last)",
      "\u001b[0;32m<ipython-input-4-58f041710f39>\u001b[0m in \u001b[0;36m<module>\u001b[0;34m\u001b[0m\n\u001b[1;32m      1\u001b[0m \u001b[0mmodel\u001b[0m \u001b[0;34m=\u001b[0m \u001b[0mLightFM\u001b[0m\u001b[0;34m(\u001b[0m\u001b[0mrandom_state\u001b[0m \u001b[0;34m=\u001b[0m \u001b[0;36m123\u001b[0m\u001b[0;34m,\u001b[0m \u001b[0mlearning_rate\u001b[0m \u001b[0;34m=\u001b[0m \u001b[0;36m0.1\u001b[0m\u001b[0;34m,\u001b[0m \u001b[0mno_components\u001b[0m \u001b[0;34m=\u001b[0m \u001b[0;36m10\u001b[0m\u001b[0;34m)\u001b[0m\u001b[0;34m\u001b[0m\u001b[0;34m\u001b[0m\u001b[0m\n\u001b[0;32m----> 2\u001b[0;31m \u001b[0mmodel\u001b[0m \u001b[0;34m=\u001b[0m \u001b[0mmodel\u001b[0m\u001b[0;34m.\u001b[0m\u001b[0mfit\u001b[0m\u001b[0;34m(\u001b[0m\u001b[0mpivot_table\u001b[0m\u001b[0;34m,\u001b[0m \u001b[0mepochs\u001b[0m \u001b[0;34m=\u001b[0m \u001b[0;36m4\u001b[0m\u001b[0;34m)\u001b[0m\u001b[0;34m\u001b[0m\u001b[0;34m\u001b[0m\u001b[0m\n\u001b[0m",
      "\u001b[0;32m~/opt/anaconda3/lib/python3.8/site-packages/lightfm/lightfm.py\u001b[0m in \u001b[0;36mfit\u001b[0;34m(self, interactions, user_features, item_features, sample_weight, epochs, num_threads, verbose)\u001b[0m\n\u001b[1;32m    531\u001b[0m         \u001b[0mself\u001b[0m\u001b[0;34m.\u001b[0m\u001b[0m_reset_state\u001b[0m\u001b[0;34m(\u001b[0m\u001b[0;34m)\u001b[0m\u001b[0;34m\u001b[0m\u001b[0;34m\u001b[0m\u001b[0m\n\u001b[1;32m    532\u001b[0m \u001b[0;34m\u001b[0m\u001b[0m\n\u001b[0;32m--> 533\u001b[0;31m         return self.fit_partial(\n\u001b[0m\u001b[1;32m    534\u001b[0m             \u001b[0minteractions\u001b[0m\u001b[0;34m,\u001b[0m\u001b[0;34m\u001b[0m\u001b[0;34m\u001b[0m\u001b[0m\n\u001b[1;32m    535\u001b[0m             \u001b[0muser_features\u001b[0m\u001b[0;34m=\u001b[0m\u001b[0muser_features\u001b[0m\u001b[0;34m,\u001b[0m\u001b[0;34m\u001b[0m\u001b[0;34m\u001b[0m\u001b[0m\n",
      "\u001b[0;32m~/opt/anaconda3/lib/python3.8/site-packages/lightfm/lightfm.py\u001b[0m in \u001b[0;36mfit_partial\u001b[0;34m(self, interactions, user_features, item_features, sample_weight, epochs, num_threads, verbose)\u001b[0m\n\u001b[1;32m    598\u001b[0m         \u001b[0;31m# We need this in the COO format.\u001b[0m\u001b[0;34m\u001b[0m\u001b[0;34m\u001b[0m\u001b[0;34m\u001b[0m\u001b[0m\n\u001b[1;32m    599\u001b[0m         \u001b[0;31m# If that's already true, this is a no-op.\u001b[0m\u001b[0;34m\u001b[0m\u001b[0;34m\u001b[0m\u001b[0;34m\u001b[0m\u001b[0m\n\u001b[0;32m--> 600\u001b[0;31m         \u001b[0minteractions\u001b[0m \u001b[0;34m=\u001b[0m \u001b[0minteractions\u001b[0m\u001b[0;34m.\u001b[0m\u001b[0mtocoo\u001b[0m\u001b[0;34m(\u001b[0m\u001b[0;34m)\u001b[0m\u001b[0;34m\u001b[0m\u001b[0;34m\u001b[0m\u001b[0m\n\u001b[0m\u001b[1;32m    601\u001b[0m \u001b[0;34m\u001b[0m\u001b[0m\n\u001b[1;32m    602\u001b[0m         \u001b[0;32mif\u001b[0m \u001b[0minteractions\u001b[0m\u001b[0;34m.\u001b[0m\u001b[0mdtype\u001b[0m \u001b[0;34m!=\u001b[0m \u001b[0mCYTHON_DTYPE\u001b[0m\u001b[0;34m:\u001b[0m\u001b[0;34m\u001b[0m\u001b[0;34m\u001b[0m\u001b[0m\n",
      "\u001b[0;31mAttributeError\u001b[0m: 'numpy.ndarray' object has no attribute 'tocoo'"
     ]
    }
   ],
   "source": [
    "model = LightFM(random_state = 123, learning_rate = 0.1, no_components = 10)\n",
    "model = model.fit(pivot_table, epochs = 4)"
   ]
  },
  {
   "cell_type": "code",
   "execution_count": null,
   "id": "0294830f",
   "metadata": {},
   "outputs": [],
   "source": [
    "MAP = precision_at_k(model, val_mat).mean()"
   ]
  },
  {
   "cell_type": "code",
   "execution_count": null,
   "id": "7e339dd9",
   "metadata": {},
   "outputs": [],
   "source": [
    "print(MAP)"
   ]
  },
  {
   "cell_type": "code",
   "execution_count": null,
   "id": "cd46cecf",
   "metadata": {},
   "outputs": [],
   "source": [
    "val_mat"
   ]
  },
  {
   "cell_type": "code",
   "execution_count": null,
   "id": "d710a30d",
   "metadata": {},
   "outputs": [],
   "source": [
    "train_mat"
   ]
  },
  {
   "cell_type": "code",
   "execution_count": null,
   "id": "8d56059e",
   "metadata": {},
   "outputs": [],
   "source": []
  }
 ],
 "metadata": {
  "kernelspec": {
   "display_name": "Python 3",
   "language": "python",
   "name": "python3"
  },
  "language_info": {
   "codemirror_mode": {
    "name": "ipython",
    "version": 3
   },
   "file_extension": ".py",
   "mimetype": "text/x-python",
   "name": "python",
   "nbconvert_exporter": "python",
   "pygments_lexer": "ipython3",
   "version": "3.8.8"
  }
 },
 "nbformat": 4,
 "nbformat_minor": 5
}
