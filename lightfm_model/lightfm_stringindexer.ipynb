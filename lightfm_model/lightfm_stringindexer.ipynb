{
 "cells": [
  {
   "cell_type": "code",
   "execution_count": 2,
   "id": "c9229a4d",
   "metadata": {
    "scrolled": true
   },
   "outputs": [
    {
     "name": "stdout",
     "output_type": "stream",
     "text": [
      "finished indexer 1 on train\n",
      "finished indexer 2 on train\n",
      "dropped columns in training set\n"
     ]
    }
   ],
   "source": [
    "from pyspark.ml.feature import StringIndexer\n",
    "from pyspark import SparkContext\n",
    "from pyspark.sql import SparkSession\n",
    "import sys\n",
    "import getpass\n",
    "\n",
    "\n",
    "def main(spark):\n",
    "           \n",
    "    # read in data\n",
    "    trainSample = spark.read.parquet('../data/train_sample1pct.parquet')\n",
    "    \n",
    "    trainSample.createOrReplaceTempView('trainSample')\n",
    "\n",
    "#     # StringIndexer to create new columns and dataframes\n",
    "    indexer_obj_1 = StringIndexer(inputCol=\"user_id\", outputCol=\"user_id_numer\").setHandleInvalid(\"keep\")\n",
    "    indexer_model_1 = indexer_obj_1.fit(trainSample)\n",
    "    indexer_df_1 = indexer_model_1.transform(trainSample)\n",
    "    print('finished indexer 1 on train')\n",
    "\n",
    "    indexer_obj_2 = StringIndexer(inputCol=\"track_id\", outputCol=\"track_id_numer\").setHandleInvalid(\"keep\")\n",
    "    indexer_model_2 = indexer_obj_2.fit(indexer_df_1)\n",
    "    indexer_df_2 = indexer_model_2.transform(indexer_df_1)\n",
    "    print('finished indexer 2 on train')\n",
    "\n",
    "    train_df = indexer_df_2.drop('user_id')\n",
    "    train_df = train_df.drop('track_id')\n",
    "    train_df = train_df.repartition(2000)\n",
    "    \n",
    "    print('dropped columns in training set')\n",
    "\n",
    "    train_df.write.mode('overwrite').parquet('../data/train_df_1pct.parquet')\n",
    "\n",
    "\n",
    "if __name__ == \"__main__\":\n",
    "        # Create the spark session object\n",
    "    spark = SparkSession.builder.config('spark.driver.memory', '16g').appName('sampler').getOrCreate()\n",
    "    \n",
    "    main(spark)"
   ]
  },
  {
   "cell_type": "code",
   "execution_count": null,
   "id": "5568e641",
   "metadata": {},
   "outputs": [],
   "source": []
  }
 ],
 "metadata": {
  "kernelspec": {
   "display_name": "Python 3",
   "language": "python",
   "name": "python3"
  },
  "language_info": {
   "codemirror_mode": {
    "name": "ipython",
    "version": 3
   },
   "file_extension": ".py",
   "mimetype": "text/x-python",
   "name": "python",
   "nbconvert_exporter": "python",
   "pygments_lexer": "ipython3",
   "version": "3.8.8"
  }
 },
 "nbformat": 4,
 "nbformat_minor": 5
}
