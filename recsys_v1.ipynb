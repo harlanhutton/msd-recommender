{
 "cells": [
  {
   "cell_type": "code",
   "execution_count": 47,
   "metadata": {},
   "outputs": [],
   "source": [
    "from pyspark.ml.evaluation import RegressionEvaluator\n",
    "from pyspark.ml.recommendation import ALS\n",
    "from pyspark.sql import Row\n",
    "from pyspark.ml.feature import StringIndexer\n",
    "\n",
    "from pyspark.sql.functions import col, explode\n",
    "import pandas as pd"
   ]
  },
  {
   "cell_type": "code",
   "execution_count": 2,
   "metadata": {},
   "outputs": [],
   "source": [
    "import pyspark\n",
    "from pyspark.sql import SparkSession\n",
    "spark = SparkSession.builder.getOrCreate()"
   ]
  },
  {
   "cell_type": "code",
   "execution_count": 3,
   "metadata": {},
   "outputs": [],
   "source": [
    "ratings = spark.read.parquet('train_sample1.parquet')\n",
    "ratings.createOrReplaceTempView('ratings')"
   ]
  },
  {
   "cell_type": "code",
   "execution_count": 4,
   "metadata": {},
   "outputs": [
    {
     "name": "stdout",
     "output_type": "stream",
     "text": [
      "+--------------------+-----+------------------+-----------------+-------------+--------------+\n",
      "|             user_id|count|          track_id|__index_level_0__|user_id_numer|track_id_numer|\n",
      "+--------------------+-----+------------------+-----------------+-------------+--------------+\n",
      "|85c1f87fea955d09b...|    2|TRHEQEQ12903CDA12D|              107|     222596.0|        3947.0|\n",
      "|969cc6fb74e076a68...|    1|TRTTSRS12903CA00FF|              156|     238051.0|        4071.0|\n",
      "|b64cdd1a0bd907e5e...|    1|TRFMCVT128F92F7083|              342|     267078.0|        2582.0|\n",
      "|17aa9f6dbdf753831...|    1|TRXTEJZ128F422BC35|              406|      41261.0|        5217.0|\n",
      "|17aa9f6dbdf753831...|    1|TRCLBXD128F932472C|              443|      41261.0|        2556.0|\n",
      "|5a905f000fc1ff3df...|    2|TRGAOLV128E0789D40|              574|       4240.0|         731.0|\n",
      "|5a905f000fc1ff3df...|    1|TRUWESF128F1452600|              610|       4240.0|        8026.0|\n",
      "|5a905f000fc1ff3df...|    5|TRALZBV128F4250E60|              630|       4240.0|        3878.0|\n",
      "|5a905f000fc1ff3df...|    6|TRYDYRD128F9309056|              956|       4240.0|         573.0|\n",
      "|5a905f000fc1ff3df...|    1|TRRRERV12903CB0C91|             1019|       4240.0|        9901.0|\n",
      "|baf47ed8da24d607e...|    1|TRNKKLE128F92E2A24|             1081|      12196.0|       82088.0|\n",
      "|baf47ed8da24d607e...|    1|TRGCZFO128F92EE221|             1108|      12196.0|       67786.0|\n",
      "|baf47ed8da24d607e...|    1|TRFWSKZ128F4294C6A|             1213|      12196.0|       67307.0|\n",
      "|baf47ed8da24d607e...|    1|TRCZUGF128EF3453B7|             1278|      12196.0|        5306.0|\n",
      "|a820d2d4f16bbd53b...|    2|TRKKSES128F4263782|             1327|     254074.0|       16847.0|\n",
      "|bd8475385f0aa7883...|    1|TRAFUNV128F92CFEB2|             1353|     273783.0|         128.0|\n",
      "|0afaa5d9d04bf85af...|    5|TRXTTJG128F426B354|             1509|     109747.0|        5218.0|\n",
      "|403b3b867fc71dfdc...|    1|TRKLJUT12903D03CA5|             1546|     158779.0|       32203.0|\n",
      "|f84f5b5a5c5d1d9fb...|    2|TRVAXHF128F931FB04|             1565|     327879.0|       10024.0|\n",
      "|a58de017cbeda1763...|    3|TRWQQVW128F422AECF|             1858|      76953.0|          90.0|\n",
      "+--------------------+-----+------------------+-----------------+-------------+--------------+\n",
      "only showing top 20 rows\n",
      "\n"
     ]
    }
   ],
   "source": [
    "indexer = StringIndexer(inputCol=\"user_id\", outputCol=\"user_id_numer\")\n",
    "indexed_prelim = indexer.fit(ratings).transform(ratings)\n",
    "\n",
    "indexer_2 = StringIndexer(inputCol=\"track_id\", outputCol=\"track_id_numer\")\n",
    "indexed = indexer_2.fit(indexed_prelim).transform(indexed_prelim)\n",
    "\n",
    "indexed.show()\n"
   ]
  },
  {
   "cell_type": "code",
   "execution_count": 5,
   "metadata": {},
   "outputs": [
    {
     "name": "stdout",
     "output_type": "stream",
     "text": [
      "+-----+-----------------+-------------+--------------+\n",
      "|count|__index_level_0__|user_id_numer|track_id_numer|\n",
      "+-----+-----------------+-------------+--------------+\n",
      "|    2|              107|     222596.0|        3947.0|\n",
      "|    1|              156|     238051.0|        4071.0|\n",
      "|    1|              342|     267078.0|        2582.0|\n",
      "|    1|              406|      41261.0|        5217.0|\n",
      "|    1|              443|      41261.0|        2556.0|\n",
      "|    2|              574|       4240.0|         731.0|\n",
      "|    1|              610|       4240.0|        8026.0|\n",
      "|    5|              630|       4240.0|        3878.0|\n",
      "|    6|              956|       4240.0|         573.0|\n",
      "|    1|             1019|       4240.0|        9901.0|\n",
      "|    1|             1081|      12196.0|       82088.0|\n",
      "|    1|             1108|      12196.0|       67786.0|\n",
      "|    1|             1213|      12196.0|       67307.0|\n",
      "|    1|             1278|      12196.0|        5306.0|\n",
      "|    2|             1327|     254074.0|       16847.0|\n",
      "|    1|             1353|     273783.0|         128.0|\n",
      "|    5|             1509|     109747.0|        5218.0|\n",
      "|    1|             1546|     158779.0|       32203.0|\n",
      "|    2|             1565|     327879.0|       10024.0|\n",
      "|    3|             1858|      76953.0|          90.0|\n",
      "+-----+-----------------+-------------+--------------+\n",
      "only showing top 20 rows\n",
      "\n"
     ]
    }
   ],
   "source": [
    "df_dropped = indexed.drop('user_id')\n",
    "df_dropped = df_dropped.drop('track_id')\n",
    "df_dropped.show()"
   ]
  },
  {
   "cell_type": "code",
   "execution_count": 6,
   "metadata": {},
   "outputs": [],
   "source": [
    "(training, test) = df_dropped.randomSplit([0.8, 0.2])"
   ]
  },
  {
   "cell_type": "code",
   "execution_count": 7,
   "metadata": {},
   "outputs": [],
   "source": [
    "#training.show()"
   ]
  },
  {
   "cell_type": "code",
   "execution_count": 8,
   "metadata": {},
   "outputs": [],
   "source": [
    "### Drop the old columns at some point"
   ]
  },
  {
   "cell_type": "code",
   "execution_count": 9,
   "metadata": {},
   "outputs": [
    {
     "name": "stdout",
     "output_type": "stream",
     "text": [
      "Root-mean-square error = 6.7769339557419075\n"
     ]
    }
   ],
   "source": [
    "# Build the recommendation model using ALS on the training data\n",
    "# Note we set cold start strategy to 'drop' to ensure we don't get NaN evaluation metrics\n",
    "als = ALS(maxIter=5, regParam=0.01, userCol=\"user_id_numer\", itemCol=\"track_id_numer\", ratingCol=\"count\",\n",
    "          coldStartStrategy=\"drop\")\n",
    "model = als.fit(training)\n",
    "\n",
    "# Evaluate the model by computing the RMSE on the test data\n",
    "predictions = model.transform(test)\n",
    "evaluator = RegressionEvaluator(metricName=\"rmse\", labelCol=\"count\",\n",
    "                                predictionCol=\"prediction\")\n",
    "rmse = evaluator.evaluate(predictions)\n",
    "\n",
    "print(\"Root-mean-square error = \" + str(rmse))\n",
    "\n",
    "# Generate top 10 song recommendations for each user\n",
    "\n",
    "### ADJUST FOR 500 SONGS \n",
    "\n",
    "userRecs = model.recommendForAllUsers(10)\n",
    "# Generate top 10 user recommendations for each song\n",
    "songRecs = model.recommendForAllItems(10)"
   ]
  },
  {
   "cell_type": "code",
   "execution_count": 11,
   "metadata": {},
   "outputs": [],
   "source": [
    "#### THIS WILL BE REMOVED ####\n",
    "\n",
    "# Generate top 10 movie recommendations for a specified set of users\n",
    "users = df_dropped.select(als.getUserCol()).distinct().limit(3)\n",
    "userSubsetRecs = model.recommendForUserSubset(users, 10)\n",
    "# Generate top 10 user recommendations for a specified set of movies\n",
    "songs = df_dropped.select(als.getItemCol()).distinct().limit(3)\n",
    "songSubSetRecs = model.recommendForItemSubset(songs, 10)"
   ]
  },
  {
   "cell_type": "code",
   "execution_count": 12,
   "metadata": {},
   "outputs": [
    {
     "name": "stdout",
     "output_type": "stream",
     "text": [
      "+-------------+--------------------+\n",
      "|user_id_numer|     recommendations|\n",
      "+-------------+--------------------+\n",
      "|       262469|[{100229, 51.4293...|\n",
      "|        45953|[{9831, 20.80738}...|\n",
      "+-------------+--------------------+\n",
      "\n"
     ]
    }
   ],
   "source": [
    "userSubsetRecs.show()"
   ]
  },
  {
   "cell_type": "code",
   "execution_count": 53,
   "metadata": {},
   "outputs": [],
   "source": [
    "userSubsetRecs_col = userSubsetRecs.toPandas()"
   ]
  },
  {
   "cell_type": "code",
   "execution_count": 54,
   "metadata": {},
   "outputs": [
    {
     "data": {
      "text/plain": [
       "pandas.core.frame.DataFrame"
      ]
     },
     "execution_count": 54,
     "metadata": {},
     "output_type": "execute_result"
    }
   ],
   "source": [
    "type(userSubsetRecs_col)"
   ]
  },
  {
   "cell_type": "code",
   "execution_count": 83,
   "metadata": {},
   "outputs": [],
   "source": [
    "noop = userSubsetRecs_col['recommendations'][0]\n"
   ]
  },
  {
   "cell_type": "code",
   "execution_count": 99,
   "metadata": {},
   "outputs": [],
   "source": [
    "song_ids = []\n",
    "play_counts = []\n",
    "for n in range(len(noop)):\n",
    "    song_ids.append(noop[n][0])\n",
    "    play_counts.append(noop[n][1])\n",
    "\n"
   ]
  },
  {
   "cell_type": "code",
   "execution_count": 100,
   "metadata": {},
   "outputs": [
    {
     "data": {
      "text/plain": [
       "[100229, 3595, 36349, 48884, 14546, 67491, 58736, 36489, 22981, 92294]"
      ]
     },
     "execution_count": 100,
     "metadata": {},
     "output_type": "execute_result"
    }
   ],
   "source": [
    "song_ids"
   ]
  },
  {
   "cell_type": "code",
   "execution_count": 14,
   "metadata": {},
   "outputs": [
    {
     "data": {
      "text/plain": [
       "pyspark.sql.dataframe.DataFrame"
      ]
     },
     "execution_count": 14,
     "metadata": {},
     "output_type": "execute_result"
    }
   ],
   "source": [
    "type(userSubsetRecs)"
   ]
  },
  {
   "cell_type": "code",
   "execution_count": null,
   "metadata": {},
   "outputs": [],
   "source": [
    "#songSubSetRecs.show()"
   ]
  },
  {
   "cell_type": "code",
   "execution_count": null,
   "metadata": {},
   "outputs": [],
   "source": [
    "#songRecs.show()"
   ]
  },
  {
   "cell_type": "code",
   "execution_count": 72,
   "metadata": {},
   "outputs": [],
   "source": [
    "import pyspark.sql.functions as f\n",
    "my_list = userSubsetRecs.select(f.collect_list('recommendations')).first()[0]"
   ]
  },
  {
   "cell_type": "code",
   "execution_count": 74,
   "metadata": {},
   "outputs": [
    {
     "name": "stdout",
     "output_type": "stream",
     "text": [
      "[[Row(track_id_numer=100229, rating=51.42936325073242), Row(track_id_numer=3595, rating=49.366703033447266), Row(track_id_numer=36349, rating=30.645719528198242), Row(track_id_numer=48884, rating=29.265501022338867), Row(track_id_numer=14546, rating=29.14731788635254), Row(track_id_numer=67491, rating=26.684131622314453), Row(track_id_numer=58736, rating=26.053049087524414), Row(track_id_numer=36489, rating=26.046415328979492), Row(track_id_numer=22981, rating=25.817214965820312), Row(track_id_numer=92294, rating=25.41570281982422)], [Row(track_id_numer=9831, rating=20.80738067626953), Row(track_id_numer=15646, rating=14.361817359924316), Row(track_id_numer=54627, rating=13.229878425598145), Row(track_id_numer=3595, rating=13.107110023498535), Row(track_id_numer=4576, rating=11.423210144042969), Row(track_id_numer=41339, rating=9.573042869567871), Row(track_id_numer=34034, rating=9.477357864379883), Row(track_id_numer=14267, rating=9.032364845275879), Row(track_id_numer=9244, rating=8.988564491271973), Row(track_id_numer=25296, rating=8.82669448852539)]]\n"
     ]
    }
   ],
   "source": [
    "print(my_list)"
   ]
  },
  {
   "cell_type": "code",
   "execution_count": 73,
   "metadata": {},
   "outputs": [],
   "source": [
    "# nrecommendations = userSubsetRecs\\\n",
    "#     .withColumn(\"rec_exp\", explode(\"recommendations\"))\\\n",
    "#     .select('user_id_numer', col(0), col(1))\n",
    "# nrecommendations.limit(10).show()"
   ]
  },
  {
   "cell_type": "code",
   "execution_count": 16,
   "metadata": {},
   "outputs": [],
   "source": [
    "# split_col = pyspark.sql.functions.split(userSubsetRecs['recommendations'], '{')\n",
    "# userSubsetRecs = userSubsetRecs.withColumn('rec1', split_col.getItem(0))\n",
    "# userSubsetRecs = userSubsetRecs.withColumn('rec2', split_col.getItem(1))\n",
    "# userSubsetRecs = userSubsetRecs.withColumn('rec3', split_col.getItem(2))"
   ]
  },
  {
   "cell_type": "code",
   "execution_count": 28,
   "metadata": {},
   "outputs": [],
   "source": [
    "# userSubsetRecs.select(\"recommendations\").rdd.flatMap(lambda x: x).collect()"
   ]
  },
  {
   "cell_type": "code",
   "execution_count": null,
   "metadata": {},
   "outputs": [],
   "source": []
  }
 ],
 "metadata": {
  "kernelspec": {
   "display_name": "Python 3",
   "language": "python",
   "name": "python3"
  },
  "language_info": {
   "codemirror_mode": {
    "name": "ipython",
    "version": 3
   },
   "file_extension": ".py",
   "mimetype": "text/x-python",
   "name": "python",
   "nbconvert_exporter": "python",
   "pygments_lexer": "ipython3",
   "version": "3.8.5"
  }
 },
 "nbformat": 4,
 "nbformat_minor": 4
}
