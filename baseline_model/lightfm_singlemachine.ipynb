{
 "cells": [
  {
   "cell_type": "code",
   "execution_count": 1,
   "id": "6f8ded05",
   "metadata": {},
   "outputs": [
    {
     "name": "stderr",
     "output_type": "stream",
     "text": [
      "/Users/harlanhutton/opt/anaconda3/lib/python3.8/site-packages/lightfm/_lightfm_fast.py:9: UserWarning: LightFM was compiled without OpenMP support. Only a single thread will be used.\n",
      "  warnings.warn(\n"
     ]
    }
   ],
   "source": [
    "import pandas as pd\n",
    "from lightfm import LightFM\n",
    "import itertools\n",
    "from lightfm.evaluation import precision_at_k\n",
    "from scipy.sparse import csr_matrix\n",
    "from time import time"
   ]
  },
  {
   "cell_type": "code",
   "execution_count": 2,
   "id": "c5a4d68d",
   "metadata": {},
   "outputs": [],
   "source": [
    "def create_interactions(train, test, val):\n",
    "    \n",
    "    #train.columns = [0,1,2]\n",
    "    train_interaction = pd.pivot_table(train, index='user_id_numer', columns='track_id_numer', values='count')\n",
    "    train_interaction = train_interaction.fillna(0)\n",
    "    \n",
    "    #test.columns = [0,1,2]\n",
    "    test_interaction = pd.pivot_table(test, index='user_id_numer', columns='track_id_numer', values='count')\n",
    "    test_interaction = test_interaction.fillna(0)\n",
    "    \n",
    "    #val.columns = [0,1,2]\n",
    "    val_interaction = pd.pivot_table(val, index='user_id_numer', columns='track_id_numer', values='count')\n",
    "    val_interaction = val_interaction.fillna(0)\n",
    "    \n",
    "    return train_interaction, test_interaction, val_interaction  "
   ]
  },
  {
   "cell_type": "code",
   "execution_count": 3,
   "id": "1d9d3009",
   "metadata": {},
   "outputs": [],
   "source": [
    "def create_matrix(train_interaction, test_interaction, val_interaction):\n",
    "    \n",
    "    return csr_matrix(train_interaction.values), csr_matrix(test_interaction.values), csr_matrix(val_interaction.values)"
   ]
  },
  {
   "cell_type": "code",
   "execution_count": 4,
   "id": "78ed1c0d",
   "metadata": {},
   "outputs": [],
   "source": [
    "def sample_hyperparameters():\n",
    "    \"\"\"\n",
    "    Yield possible hyperparameter choices.\n",
    "    \"\"\"\n",
    "    \n",
    "    while True:\n",
    "        yield {\n",
    "            \"no_components\": [5,10,15,20],\n",
    "            \"learning_rate\": [.01,.1,1]\n",
    "        }"
   ]
  },
  {
   "cell_type": "code",
   "execution_count": 5,
   "id": "5389ca82",
   "metadata": {},
   "outputs": [],
   "source": [
    "def random_search(train, val, m_iter):\n",
    "\n",
    "    for hyperparams in itertools.islice(sample_hyperparameters(), num_samples):\n",
    "\n",
    "        model = LightFM(**hyperparams)\n",
    "        model.fit(train, epochs=m_iter)\n",
    "\n",
    "        MAP = precision_at_k(model, val).mean()\n",
    "\n",
    "        yield (MAP, hyperparams, model)"
   ]
  },
  {
   "cell_type": "code",
   "execution_count": 6,
   "id": "c8f087eb",
   "metadata": {},
   "outputs": [],
   "source": [
    "def train_model(train_matrix, rank, reg, m_iter):\n",
    "    \n",
    "    model = LightFM(random_state = 123, learning_rate = reg, no_components = rank)\n",
    "    model = model.fit(train_matrix, epochs = m_iter)\n",
    "    \n",
    "    return model"
   ]
  },
  {
   "cell_type": "code",
   "execution_count": 7,
   "id": "6bec3de7",
   "metadata": {},
   "outputs": [],
   "source": [
    "def test_model(model, test_matrix):\n",
    "    \n",
    "    return precision_at_k(model, val).mean()"
   ]
  },
  {
   "cell_type": "code",
   "execution_count": 11,
   "id": "6d74a0e7",
   "metadata": {},
   "outputs": [],
   "source": [
    "def main():\n",
    "    \n",
    "    train_df = pd.read_csv('data/train_df.csv')\n",
    "    test_df = pd.read_csv('data/test_df.csv')\n",
    "    val_df = pd.read_csv('data/val_df.csv')\n",
    "    \n",
    "    train_interaction, test_interaction, val_interaction = create_interactions(train_df, test_df, val_df)\n",
    "#     train_matrix, test_matrix, val_matrix = create_matrix(train_interaction, test_interaction, val_interaction)\n",
    "    \n",
    "#     st = time()\n",
    "#     (score, hyperparams, model) = max(random_search(train_matrix, val_matrix, m_iter = 4), key=lambda x: x[0])\n",
    "#     end = round(time()-st, 3)\n",
    "    \n",
    "#     print(\"Best score {} at {}\".format(score, hyperparams))\n",
    "#     print(\"Hyperparameter tuning took {}\".format(end))\n",
    "    \n",
    "#     st = time()\n",
    "#     model = train_model(train_model, **hyperparams, m_iter = 4)\n",
    "#     bestMAP = test_model(model, test_matrix)  \n",
    "#     end = round(time()-st, 3)\n",
    "    \n",
    "#     print(\"Best MAP on test data: {}\".format(bestMAP))\n",
    "#     print(\"Final model training and fitting took {}\".format(end))\n",
    "    "
   ]
  },
  {
   "cell_type": "code",
   "execution_count": null,
   "id": "54b9c104",
   "metadata": {},
   "outputs": [],
   "source": [
    "main()"
   ]
  },
  {
   "cell_type": "code",
   "execution_count": null,
   "id": "20b8e0ec",
   "metadata": {},
   "outputs": [],
   "source": []
  }
 ],
 "metadata": {
  "kernelspec": {
   "display_name": "Python 3",
   "language": "python",
   "name": "python3"
  },
  "language_info": {
   "codemirror_mode": {
    "name": "ipython",
    "version": 3
   },
   "file_extension": ".py",
   "mimetype": "text/x-python",
   "name": "python",
   "nbconvert_exporter": "python",
   "pygments_lexer": "ipython3",
   "version": "3.8.8"
  }
 },
 "nbformat": 4,
 "nbformat_minor": 5
}
