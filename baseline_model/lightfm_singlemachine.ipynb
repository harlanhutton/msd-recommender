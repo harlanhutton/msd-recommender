{
 "cells": [
  {
   "cell_type": "code",
   "execution_count": 1,
   "id": "c3650ead",
   "metadata": {},
   "outputs": [
    {
     "name": "stderr",
     "output_type": "stream",
     "text": [
      "/Users/harlanhutton/opt/anaconda3/lib/python3.8/site-packages/lightfm/_lightfm_fast.py:9: UserWarning: LightFM was compiled without OpenMP support. Only a single thread will be used.\n",
      "  warnings.warn(\n"
     ]
    }
   ],
   "source": [
    "import numpy as np\n",
    "import pandas as pd\n",
    "from lightfm import LightFM\n",
    "import itertools\n",
    "from lightfm.evaluation import precision_at_k\n",
    "from scipy.sparse import csr_matrix, lil_matrix\n",
    "from time import time"
   ]
  },
  {
   "cell_type": "code",
   "execution_count": null,
   "id": "b738f9a3",
   "metadata": {},
   "outputs": [],
   "source": [
    "def create_interactions(train, test, val):\n",
    "    \n",
    "    #train.columns = [0,1,2]\n",
    "    train_interaction = pd.pivot_table(train, index='user_id_numer', columns='track_id_numer', values='count')\n",
    "    train_interaction = train_interaction.fillna(0)\n",
    "    \n",
    "    #test.columns = [0,1,2]\n",
    "    test_interaction = pd.pivot_table(test, index='user_id_numer', columns='track_id_numer', values='count')\n",
    "    test_interaction = test_interaction.fillna(0)\n",
    "    \n",
    "    #val.columns = [0,1,2]\n",
    "    val_interaction = pd.pivot_table(val, index='user_id_numer', columns='track_id_numer', values='count')\n",
    "    val_interaction = val_interaction.fillna(0)\n",
    "    \n",
    "    return train_interaction, test_interaction, val_interaction  "
   ]
  },
  {
   "cell_type": "code",
   "execution_count": null,
   "id": "3f07208a",
   "metadata": {},
   "outputs": [],
   "source": [
    "def create_matrix(train_interaction, test_interaction, val_interaction):\n",
    "    \n",
    "    return csr_matrix(train_interaction.values), csr_matrix(test_interaction.values), csr_matrix(val_interaction.values)"
   ]
  },
  {
   "cell_type": "code",
   "execution_count": null,
   "id": "46ee2666",
   "metadata": {},
   "outputs": [],
   "source": [
    "def sample_hyperparameters():\n",
    "    \"\"\"\n",
    "    Yield possible hyperparameter choices.\n",
    "    \"\"\"\n",
    "    \n",
    "    while True:\n",
    "        yield {\n",
    "            \"no_components\": [5,10,15,20],\n",
    "            \"learning_rate\": [.01,.1,1]\n",
    "        }"
   ]
  },
  {
   "cell_type": "code",
   "execution_count": null,
   "id": "2b1fe888",
   "metadata": {},
   "outputs": [],
   "source": [
    "def random_search(train, val, m_iter):\n",
    "\n",
    "    for hyperparams in itertools.islice(sample_hyperparameters(), num_samples):\n",
    "\n",
    "        model = LightFM(**hyperparams)\n",
    "        model.fit(train, epochs=m_iter)\n",
    "\n",
    "        MAP = precision_at_k(model, val).mean()\n",
    "\n",
    "        yield (MAP, hyperparams, model)"
   ]
  },
  {
   "cell_type": "code",
   "execution_count": null,
   "id": "28216ec0",
   "metadata": {},
   "outputs": [],
   "source": [
    "def train_model(train_matrix, rank, reg, m_iter):\n",
    "    \n",
    "    model = LightFM(random_state = 123, learning_rate = reg, no_components = rank)\n",
    "    model = model.fit(train_matrix, epochs = m_iter)\n",
    "    \n",
    "    return model"
   ]
  },
  {
   "cell_type": "code",
   "execution_count": null,
   "id": "ae94770f",
   "metadata": {},
   "outputs": [],
   "source": [
    "def test_model(model, test_matrix):\n",
    "    \n",
    "    return precision_at_k(model, val).mean()"
   ]
  },
  {
   "cell_type": "code",
   "execution_count": null,
   "id": "4ad8291c",
   "metadata": {},
   "outputs": [],
   "source": [
    "def main():\n",
    "    \n",
    "    train_df = pd.read_csv('data/train_df.csv')\n",
    "    test_df = pd.read_csv('data/test_df.csv')\n",
    "    val_df = pd.read_csv('data/val_df.csv')\n",
    "    \n",
    "    train_interaction, test_interaction, val_interaction = create_interactions(train_df, test_df, val_df)\n",
    "#     train_matrix, test_matrix, val_matrix = create_matrix(train_interaction, test_interaction, val_interaction)\n",
    "    \n",
    "#     st = time()\n",
    "#     (score, hyperparams, model) = max(random_search(train_matrix, val_matrix, m_iter = 4), key=lambda x: x[0])\n",
    "#     end = round(time()-st, 3)\n",
    "    \n",
    "#     print(\"Best score {} at {}\".format(score, hyperparams))\n",
    "#     print(\"Hyperparameter tuning took {}\".format(end))\n",
    "    \n",
    "#     st = time()\n",
    "#     model = train_model(train_model, **hyperparams, m_iter = 4)\n",
    "#     bestMAP = test_model(model, test_matrix)  \n",
    "#     end = round(time()-st, 3)\n",
    "    \n",
    "#     print(\"Best MAP on test data: {}\".format(bestMAP))\n",
    "#     print(\"Final model training and fitting took {}\".format(end))\n",
    "    "
   ]
  },
  {
   "cell_type": "code",
   "execution_count": 2,
   "id": "ccd25cc6",
   "metadata": {},
   "outputs": [],
   "source": [
    "train_df = pd.read_csv('data/train_df.csv')"
   ]
  },
  {
   "cell_type": "code",
   "execution_count": null,
   "id": "b25374f1",
   "metadata": {},
   "outputs": [],
   "source": [
    "train_interaction = pd.pivot_table(train_df, index='user_id_numer', columns='track_id_numer', values='count')\n",
    "train_interaction = train_interaction.fillna(0)"
   ]
  },
  {
   "cell_type": "code",
   "execution_count": null,
   "id": "8dff2321",
   "metadata": {},
   "outputs": [],
   "source": [
    "train_interaction"
   ]
  },
  {
   "cell_type": "code",
   "execution_count": null,
   "id": "512ae235",
   "metadata": {},
   "outputs": [],
   "source": [
    "rows, r_pos = np.unique(train_df.user_id_numer, return_inverse=True)\n",
    "cols, c_pos = np.unique(train_df.track_id_numer, return_inverse=True)\n",
    "\n",
    "pivot_table = np.zeros((len(rows), len(cols)))\n",
    "pivot_table[r_pos, c_pos] = 1\n",
    "\n",
    "print(pivot_table)"
   ]
  },
  {
   "cell_type": "code",
   "execution_count": null,
   "id": "6d71fc88",
   "metadata": {},
   "outputs": [],
   "source": []
  },
  {
   "cell_type": "code",
   "execution_count": null,
   "id": "b4b44bdd",
   "metadata": {},
   "outputs": [],
   "source": [
    "# Convert the dense pivot table to a sparse matrix\n",
    "s = csr_matrix(pivot_table)"
   ]
  },
  {
   "cell_type": "code",
   "execution_count": null,
   "id": "c7fdbf42",
   "metadata": {},
   "outputs": [],
   "source": [
    "train_df.groupby(['user_id_numer', 'track_id_numer']).size().unstack(fill_value=0)"
   ]
  },
  {
   "cell_type": "code",
   "execution_count": null,
   "id": "8fa18fde",
   "metadata": {},
   "outputs": [],
   "source": [
    "val_df = pd.read_csv('data/val_df.csv')"
   ]
  },
  {
   "cell_type": "code",
   "execution_count": null,
   "id": "7863a054",
   "metadata": {},
   "outputs": [],
   "source": [
    "train_mat = coo_matrix(train_df)"
   ]
  },
  {
   "cell_type": "code",
   "execution_count": null,
   "id": "115a5c36",
   "metadata": {},
   "outputs": [],
   "source": [
    "val_mat = coo_matrix(val_df)"
   ]
  },
  {
   "cell_type": "code",
   "execution_count": null,
   "id": "6c3f9e7b",
   "metadata": {},
   "outputs": [],
   "source": [
    "from scipy.sparse import coo_matrix"
   ]
  },
  {
   "cell_type": "code",
   "execution_count": null,
   "id": "195aac7c",
   "metadata": {},
   "outputs": [],
   "source": [
    "model = LightFM(random_state = 123, learning_rate = 0.1, no_components = 10)\n",
    "model = model.fit(train_mat, epochs = 4)"
   ]
  },
  {
   "cell_type": "code",
   "execution_count": null,
   "id": "0294830f",
   "metadata": {},
   "outputs": [],
   "source": [
    "MAP = precision_at_k(model, val_mat).mean()"
   ]
  },
  {
   "cell_type": "code",
   "execution_count": null,
   "id": "7e339dd9",
   "metadata": {},
   "outputs": [],
   "source": [
    "print(MAP)"
   ]
  },
  {
   "cell_type": "code",
   "execution_count": null,
   "id": "cd46cecf",
   "metadata": {},
   "outputs": [],
   "source": [
    "val_mat"
   ]
  },
  {
   "cell_type": "code",
   "execution_count": null,
   "id": "d710a30d",
   "metadata": {},
   "outputs": [],
   "source": [
    "train_mat"
   ]
  },
  {
   "cell_type": "code",
   "execution_count": null,
   "id": "8d56059e",
   "metadata": {},
   "outputs": [],
   "source": []
  }
 ],
 "metadata": {
  "kernelspec": {
   "display_name": "Python 3",
   "language": "python",
   "name": "python3"
  },
  "language_info": {
   "codemirror_mode": {
    "name": "ipython",
    "version": 3
   },
   "file_extension": ".py",
   "mimetype": "text/x-python",
   "name": "python",
   "nbconvert_exporter": "python",
   "pygments_lexer": "ipython3",
   "version": "3.8.8"
  }
 },
 "nbformat": 4,
 "nbformat_minor": 5
}
