{
 "cells": [
  {
   "cell_type": "code",
   "execution_count": 5,
   "id": "60906fb2",
   "metadata": {},
   "outputs": [
    {
     "name": "stdout",
     "output_type": "stream",
     "text": [
      "set up spark context\n",
      "DFs created\n",
      "model created\n",
      "model fitted\n"
     ]
    }
   ],
   "source": [
    "from pyspark.ml.recommendation import ALS\n",
    "from pyspark import SparkContext\n",
    "from pyspark.sql import SparkSession\n",
    "import sys\n",
    "\n",
    "def main(spark, sc, rank, reg, m_iter):\n",
    "\n",
    "    print('set up spark context')\n",
    "\n",
    "    \n",
    "    # Read in parquet files\n",
    "    train_df = spark.read.parquet('/Users/harlanhutton/Documents/NYU 1/Second Sem/Big Data/Labs/final/final-project-recommender-systers/baseline_model/train_df_1.parquet')\n",
    "    val_df = spark.read.parquet('/Users/harlanhutton/Documents/NYU 1/Second Sem/Big Data/Labs/final/final-project-recommender-systers/baseline_model/val_df_1.parquet')\n",
    "\n",
    "    train_df.createOrReplaceTempView('train_df')\n",
    "    val_df.createOrReplaceTempView('val_df')\n",
    "\n",
    "    print('DFs created')\n",
    "\n",
    "    # Create ALS Model object\n",
    "    als = ALS(userCol=\"user_id_numer\",itemCol=\"track_id_numer\",ratingCol=\"count\",\n",
    "                         coldStartStrategy=\"drop\",implicitPrefs=True,rank=int(rank),regParam=float(reg),maxIter=int(m_iter))\n",
    "\n",
    "\n",
    "    print(\"model created\")\n",
    "\n",
    "    # Fit model\n",
    "    model = als.fit(train_df)\n",
    "\n",
    "    print(\"model fitted\")\n",
    "\n",
    "    model.write().overwrite().save('/Users/harlanhutton/Documents/NYU 1/Second Sem/Big Data/Labs/final/final-project-recommender-systers/baseline_model/model')\n",
    "\n",
    "if __name__ == \"__main__\":\n",
    "    \n",
    "    spark = SparkSession.builder.config('spark.driver.memory', '16g')\\\n",
    "    .appName('model train').getOrCreate()\n",
    "    \n",
    "    # Create spark context\n",
    "    sc = spark.sparkContext\n",
    "\n",
    "    rank = 10\n",
    "    reg = 0.1\n",
    "    m_iter = 4\n",
    "    \n",
    "    # Call main function\n",
    "    main(spark, sc, rank, reg, m_iter)"
   ]
  }
 ],
 "metadata": {
  "kernelspec": {
   "display_name": "Python 3",
   "language": "python",
   "name": "python3"
  },
  "language_info": {
   "codemirror_mode": {
    "name": "ipython",
    "version": 3
   },
   "file_extension": ".py",
   "mimetype": "text/x-python",
   "name": "python",
   "nbconvert_exporter": "python",
   "pygments_lexer": "ipython3",
   "version": "3.8.8"
  }
 },
 "nbformat": 4,
 "nbformat_minor": 5
}
