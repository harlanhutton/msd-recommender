{
 "cells": [
  {
   "cell_type": "code",
   "execution_count": 1,
   "id": "e61d07f1",
   "metadata": {},
   "outputs": [
    {
     "name": "stdout",
     "output_type": "stream",
     "text": [
      "finished indexer 1 on train\n",
      "finished indexer 2 on train\n",
      "dropped columns in training set\n",
      "transform validation set with indexer 1\n",
      "transform validation set with indexer 2\n"
     ]
    }
   ],
   "source": [
    "from pyspark.ml.feature import StringIndexer\n",
    "from pyspark import SparkContext\n",
    "from pyspark.sql import SparkSession\n",
    "import sys\n",
    "import getpass\n",
    "\n",
    "\n",
    "def main(spark):\n",
    "           \n",
    "    # read in data\n",
    "    trainSample = spark.read.parquet('/Users/harlanhutton/Documents/NYU 1/Second Sem/Big Data/Labs/final/final-project-recommender-systers/archived_versions/train_sample1.parquet')\n",
    "    testSample = spark.read.parquet('/Users/harlanhutton/Documents/NYU 1/Second Sem/Big Data/Labs/final/final-project-recommender-systers/archived_versions/test_sample1.parquet')\n",
    "    valSample = spark.read.parquet('/Users/harlanhutton/Documents/NYU 1/Second Sem/Big Data/Labs/final/final-project-recommender-systers/archived_versions/val_sample1.parquet')\n",
    "    \n",
    "    valSample.createOrReplaceTempView('valSample')\n",
    "    trainSample.createOrReplaceTempView('trainSample')\n",
    "    testSample.createOrReplaceTempView('testSample')\n",
    "\n",
    "    # StringIndexer to create new columns and dataframes\n",
    "    indexer_obj_1 = StringIndexer(inputCol=\"user_id\", outputCol=\"user_id_numer\").setHandleInvalid(\"keep\")\n",
    "    indexer_model_1 = indexer_obj_1.fit(trainSample)\n",
    "    indexer_df_1 = indexer_model_1.transform(trainSample)\n",
    "    print('finished indexer 1 on train')\n",
    "\n",
    "    indexer_obj_2 = StringIndexer(inputCol=\"track_id\", outputCol=\"track_id_numer\").setHandleInvalid(\"keep\")\n",
    "    indexer_model_2 = indexer_obj_2.fit(indexer_df_1)\n",
    "    indexer_df_2 = indexer_model_2.transform(indexer_df_1)\n",
    "    print('finished indexer 2 on train')\n",
    "\n",
    "    train_df = indexer_df_2.drop('user_id')\n",
    "    train_df = train_df.drop('track_id')\n",
    "    \n",
    "    print('dropped columns in training set')\n",
    "\n",
    "    val_df_1 = indexer_model_1.transform(valSample)\n",
    "    print('transform validation set with indexer 1')\n",
    "    \n",
    "    val_df_2= indexer_model_2.transform(val_df_1)\n",
    "    print('transform validation set with indexer 2')\n",
    "\n",
    "    val_df = val_df_2.drop('user_id')\n",
    "    val_df= val_df.drop('track_id')\n",
    "\n",
    "    test_df_1 = indexer_model_1.transform(testSample)\n",
    "    test_df_2 = indexer_model_2.transform(test_df_1)\n",
    "\n",
    "    test_df = test_df_2.drop('user_id')\n",
    "    test_df = test_df.drop('track_id')\n",
    "\n",
    "    test_df.write.mode('overwrite').parquet('/Users/harlanhutton/Documents/NYU 1/Second Sem/Big Data/Labs/final/final-project-recommender-systers/data/test_df_1.parquet')\n",
    "    train_df.write.mode('overwrite').parquet('/Users/harlanhutton/Documents/NYU 1/Second Sem/Big Data/Labs/final/final-project-recommender-systers/data/train_df_1.parquet')\n",
    "    val_df.write.mode('overwrite').parquet('/Users/harlanhutton/Documents/NYU 1/Second Sem/Big Data/Labs/final/final-project-recommender-systers/data/val_df_1.parquet')\n",
    "\n",
    "\n",
    "\n",
    "\n",
    "if __name__ == \"__main__\":\n",
    "    \n",
    "    # Create the spark session object\n",
    "    spark = SparkSession.builder.config('spark.driver.memory', '16g')\\\n",
    "    .appName('string indexer').getOrCreate()\n",
    "    \n",
    "    main(spark)"
   ]
  }
 ],
 "metadata": {
  "kernelspec": {
   "display_name": "Python 3",
   "language": "python",
   "name": "python3"
  },
  "language_info": {
   "codemirror_mode": {
    "name": "ipython",
    "version": 3
   },
   "file_extension": ".py",
   "mimetype": "text/x-python",
   "name": "python",
   "nbconvert_exporter": "python",
   "pygments_lexer": "ipython3",
   "version": "3.8.8"
  }
 },
 "nbformat": 4,
 "nbformat_minor": 5
}
