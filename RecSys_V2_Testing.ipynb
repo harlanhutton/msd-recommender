{
 "cells": [
  {
   "cell_type": "code",
   "execution_count": 1,
   "id": "3226d57d",
   "metadata": {},
   "outputs": [],
   "source": [
    "from pyspark.ml.recommendation import ALS\n",
    "from pyspark.sql import Row\n",
    "from pyspark.ml.feature import StringIndexer\n",
    "import pyspark.sql.functions as func\n",
    "from pyspark.ml.evaluation import RegressionEvaluator\n",
    "from pyspark.ml.tuning import ParamGridBuilder, CrossValidator\n",
    "from pyspark.mllib.evaluation import RankingMetrics\n",
    "from pyspark import SparkContext\n",
    "from pyspark.sql import SparkSession\n",
    "import pandas as pd\n",
    "import numpy as np\n",
    "import sys\n",
    "import getpass"
   ]
  },
  {
   "cell_type": "code",
   "execution_count": 2,
   "id": "3f5f6e20",
   "metadata": {},
   "outputs": [],
   "source": [
    "spark = SparkSession.builder.config(\"spark.driver.memory\", \"16G\").config('spark.executor.memory', '16G').appName('sampler').getOrCreate()\n",
    "sc = spark.sparkContext"
   ]
  },
  {
   "cell_type": "code",
   "execution_count": 3,
   "id": "eb9e9830",
   "metadata": {},
   "outputs": [],
   "source": [
    "trainSample = spark.read.parquet('train_sample1.parquet')\n",
    "testSample = spark.read.parquet('test_sample1.parquet')\n",
    "valSample = spark.read.parquet('val_sample1.parquet')\n",
    "    \n",
    "valSample.createOrReplaceTempView('valSample')\n",
    "trainSample.createOrReplaceTempView('trainSample')\n",
    "testSample.createOrReplaceTempView('testSample')"
   ]
  },
  {
   "cell_type": "code",
   "execution_count": 4,
   "id": "66f919a9",
   "metadata": {},
   "outputs": [],
   "source": [
    "indexer_obj_1 = StringIndexer(inputCol=\"user_id\", outputCol=\"user_id_numer\").setHandleInvalid(\"keep\")\n",
    "indexer_model_1 = indexer_obj_1.fit(trainSample)\n",
    "indexer_df_1 = indexer_model_1.transform(trainSample)"
   ]
  },
  {
   "cell_type": "code",
   "execution_count": 5,
   "id": "c4986768",
   "metadata": {},
   "outputs": [],
   "source": [
    "indexer_obj_2 = StringIndexer(inputCol=\"track_id\", outputCol=\"track_id_numer\").setHandleInvalid(\"keep\")\n",
    "indexer_model_2= indexer_obj_2.fit(indexer_df_1)\n",
    "indexer_df_2 = indexer_model_2.transform(indexer_df_1)"
   ]
  },
  {
   "cell_type": "code",
   "execution_count": 6,
   "id": "8131d518",
   "metadata": {},
   "outputs": [],
   "source": [
    "train_df = indexer_df_2.drop('user_id')\n",
    "train_df = train_df.drop('track_id')"
   ]
  },
  {
   "cell_type": "code",
   "execution_count": 7,
   "id": "f82a09a7",
   "metadata": {},
   "outputs": [],
   "source": [
    "train_df = train_df.repartition(2000)"
   ]
  },
  {
   "cell_type": "code",
   "execution_count": 8,
   "id": "efb7f935",
   "metadata": {},
   "outputs": [],
   "source": [
    "val_df_1 = indexer_model_1.transform(valSample)"
   ]
  },
  {
   "cell_type": "code",
   "execution_count": 9,
   "id": "2a4889f9",
   "metadata": {},
   "outputs": [],
   "source": [
    "val_df_2 = indexer_model_2.transform(val_df_1)"
   ]
  },
  {
   "cell_type": "code",
   "execution_count": 10,
   "id": "f260afe4",
   "metadata": {},
   "outputs": [],
   "source": [
    "val_df = val_df_2.drop('user_id')\n",
    "val_df = val_df.drop('track_id')\n",
    "    \n",
    "val_df = val_df.repartition(5000)"
   ]
  },
  {
   "cell_type": "code",
   "execution_count": 11,
   "id": "56833a89",
   "metadata": {},
   "outputs": [],
   "source": [
    "test_df_1 = indexer_model_1.transform(testSample)\n",
    "test_df_2 = indexer_model_2.transform(test_df_1)\n",
    "\n",
    "test_df = test_df_2.drop('user_id')\n",
    "test_df = test_df.drop('track_id')\n",
    "\n",
    "test_df = test_df.repartition(5000)"
   ]
  },
  {
   "cell_type": "code",
   "execution_count": 12,
   "id": "94f20a93",
   "metadata": {},
   "outputs": [],
   "source": [
    "als = ALS(userCol=\"user_id_numer\",itemCol=\"track_id_numer\",ratingCol=\"count\",\n",
    "                         coldStartStrategy=\"drop\",implicitPrefs=True,rank=int(20),regParam=float(0.1))"
   ]
  },
  {
   "cell_type": "code",
   "execution_count": 13,
   "id": "b9149bc1",
   "metadata": {},
   "outputs": [
    {
     "name": "stdout",
     "output_type": "stream",
     "text": [
      "model trained\n",
      "fitted\n"
     ]
    }
   ],
   "source": [
    "print(\"model trained\")\n",
    "best_model = als.fit(train_df)\n",
    "print(\"fitted\")"
   ]
  },
  {
   "cell_type": "code",
   "execution_count": null,
   "id": "bc511d1f",
   "metadata": {},
   "outputs": [],
   "source": [
    "predictions = best_model.transform(test_df)"
   ]
  },
  {
   "cell_type": "code",
   "execution_count": null,
   "id": "4bea63c8",
   "metadata": {},
   "outputs": [],
   "source": [
    "predictions.first()"
   ]
  },
  {
   "cell_type": "code",
   "execution_count": null,
   "id": "6842304e",
   "metadata": {},
   "outputs": [],
   "source": [
    "predictions.take(2)"
   ]
  },
  {
   "cell_type": "code",
   "execution_count": null,
   "id": "0a1772d6",
   "metadata": {},
   "outputs": [],
   "source": [
    "predictions = predictions.orderBy('prediction', ascending = False)"
   ]
  },
  {
   "cell_type": "code",
   "execution_count": null,
   "id": "6c36db11",
   "metadata": {},
   "outputs": [],
   "source": [
    "pred_df = predictions.rdd.map(lambda p: Row(User=p[2],Predictions=p[3])).toDF()"
   ]
  },
  {
   "cell_type": "code",
   "execution_count": null,
   "id": "992364ef",
   "metadata": {},
   "outputs": [],
   "source": [
    "pred_df.take(2)"
   ]
  },
  {
   "cell_type": "code",
   "execution_count": null,
   "id": "700a98e4",
   "metadata": {},
   "outputs": [],
   "source": [
    "pp = pred_df.groupby(\"User\").agg(func.collect_list(\"Predictions\"))"
   ]
  },
  {
   "cell_type": "code",
   "execution_count": null,
   "id": "35b5cb77",
   "metadata": {},
   "outputs": [],
   "source": [
    "pp.show()"
   ]
  },
  {
   "cell_type": "code",
   "execution_count": null,
   "id": "1a9fb512",
   "metadata": {},
   "outputs": [],
   "source": [
    "test_true = test_df.orderBy('count')\n",
    "test_true_df = test_true.rdd.map(lambda p: Row(User=p[2],Predictions=p[3])).toDF()"
   ]
  },
  {
   "cell_type": "code",
   "execution_count": null,
   "id": "f77d9db5",
   "metadata": {},
   "outputs": [],
   "source": [
    "rankingsRDD = (pp.join(test_true_df, 'User').rdd.map(lambda row: (row[1], row[2])))"
   ]
  },
  {
   "cell_type": "code",
   "execution_count": null,
   "id": "36b7fc85",
   "metadata": {},
   "outputs": [],
   "source": [
    "metrics = RankingMetrics(rankingsRDD)"
   ]
  },
  {
   "cell_type": "code",
   "execution_count": null,
   "id": "0d6621aa",
   "metadata": {},
   "outputs": [],
   "source": [
    "metrics.meanAveragePrecision"
   ]
  },
  {
   "cell_type": "code",
   "execution_count": 14,
   "id": "6b16a7ae",
   "metadata": {},
   "outputs": [],
   "source": [
    "users = test_df.select(als.getUserCol()).distinct()\n",
    "test_preds = best_model.recommendForUserSubset(users,5)\n",
    "test_preds_explode = test_preds.select(test_preds.user_id_numer,func.explode(test_preds.recommendations.track_id_numer))\n",
    "test_preds_flatten = test_preds_explode.groupby('user_id_numer').agg(func.collect_list('col').alias(\"col\"))"
   ]
  },
  {
   "cell_type": "code",
   "execution_count": 15,
   "id": "769c909c",
   "metadata": {},
   "outputs": [
    {
     "name": "stdout",
     "output_type": "stream",
     "text": [
      "+-------------+--------------------+\n",
      "|user_id_numer|                 col|\n",
      "+-------------+--------------------+\n",
      "|       323090|[153, 8, 103, 36,...|\n",
      "|       314281|[3, 7, 29, 141, 117]|\n",
      "|       227152|   [0, 6, 14, 10, 2]|\n",
      "|       133153|  [0, 6, 22, 38, 11]|\n",
      "|        35694|  [0, 10, 11, 6, 13]|\n",
      "|        92644| [4, 80, 28, 34, 44]|\n",
      "|       165914| [26, 11, 2, 22, 13]|\n",
      "|       136625|  [23, 9, 8, 4, 151]|\n",
      "|       225755|[5, 13, 18, 11, 130]|\n",
      "|       287645|   [1, 3, 6, 8, 126]|\n",
      "|       208696|[104, 14, 12, 24, 0]|\n",
      "|       275698|   [25, 6, 7, 21, 4]|\n",
      "|       167242|[15, 76, 117, 96,...|\n",
      "|       118605|[25, 28, 103, 88,...|\n",
      "|       258065|[975, 34, 51, 0, 11]|\n",
      "|        23136|  [11, 32, 2, 0, 42]|\n",
      "|       157866| [4, 5, 207, 18, 71]|\n",
      "|       274716|[4, 25, 115, 182,...|\n",
      "|       229338|  [5, 0, 6, 107, 75]|\n",
      "|       245018|  [3, 5, 2, 217, 16]|\n",
      "+-------------+--------------------+\n",
      "only showing top 20 rows\n",
      "\n"
     ]
    }
   ],
   "source": [
    "test_preds_flatten.show()"
   ]
  },
  {
   "cell_type": "code",
   "execution_count": 17,
   "id": "09b21a96",
   "metadata": {},
   "outputs": [],
   "source": [
    "test_true_flatten = test_df.groupby('user_id_numer').agg(func.collect_list('track_id_numer').alias(\"track_id_numer\"))\n",
    "test_true_flatten = test_true_flatten.repartition(5000)"
   ]
  },
  {
   "cell_type": "code",
   "execution_count": 18,
   "id": "72eed75f",
   "metadata": {},
   "outputs": [],
   "source": [
    "rankingsRDD = (test_preds_flatten.join(test_true_flatten, 'user_id_numer').rdd.map(lambda row: (row[1], row[2])))"
   ]
  },
  {
   "cell_type": "code",
   "execution_count": 19,
   "id": "3e1312b5",
   "metadata": {},
   "outputs": [
    {
     "name": "stdout",
     "output_type": "stream",
     "text": [
      "Ranking Metrics called\n",
      "0.0023275145469659184\n"
     ]
    }
   ],
   "source": [
    "metrics = RankingMetrics(rankingsRDD)\n",
    "\n",
    "print(\"Ranking Metrics called\")\n",
    "    \n",
    "MAP = metrics.meanAveragePrecision\n",
    "print(MAP)"
   ]
  }
 ],
 "metadata": {
  "kernelspec": {
   "display_name": "Python 3",
   "language": "python",
   "name": "python3"
  },
  "language_info": {
   "codemirror_mode": {
    "name": "ipython",
    "version": 3
   },
   "file_extension": ".py",
   "mimetype": "text/x-python",
   "name": "python",
   "nbconvert_exporter": "python",
   "pygments_lexer": "ipython3",
   "version": "3.8.8"
  }
 },
 "nbformat": 4,
 "nbformat_minor": 5
}
